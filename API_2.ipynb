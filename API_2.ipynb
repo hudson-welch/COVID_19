{
 "cells": [
  {
   "cell_type": "code",
   "execution_count": 1,
   "metadata": {},
   "outputs": [],
   "source": [
    "import pandas as pd\n",
    "import covid as cv\n"
   ]
  },
  {
   "cell_type": "markdown",
   "metadata": {},
   "source": [
    "# Load files for the US, states and counties"
   ]
  },
  {
   "cell_type": "code",
   "execution_count": 2,
   "metadata": {},
   "outputs": [
    {
     "name": "stdout",
     "output_type": "stream",
     "text": [
      "/Users/williamwelch/Google Drive/internal public/COVID19\n",
      "-rw-------  1 williamwelch  staff  541403 Jun 21 17:38 county_pop.csv\n",
      "-rw-------  1 williamwelch  staff  16660 Jun 20 07:27 state_populations.xlsx\n"
     ]
    }
   ],
   "source": [
    "# make sure you have the county and state population files in the directory\n",
    "# these are static files\n",
    "!pwd\n",
    "!ls -l county_pop.csv\n",
    "!ls -l state_populations.xlsx\n"
   ]
  },
  {
   "cell_type": "code",
   "execution_count": 3,
   "metadata": {},
   "outputs": [],
   "source": [
    "# Dataframes for:\n",
    "# the us, states (st) and counties (ct) cases and deaths\n",
    "# Acknowledgement to Paul Timothy Mooney\n",
    "# https://github.com/nytimes/covid-19-data\n",
    "\n",
    "# update = True to run the API to retrieve the latest data from kaggle.\n",
    "# update = False use previously downloaded files from API\n",
    "us, st, ct = cv.setup(update=True)"
   ]
  },
  {
   "cell_type": "markdown",
   "metadata": {},
   "source": [
    "Variables:   \n",
    "cases: cases on a given date   \n",
    "deaths: deaths on a given date    \n",
    "cpm: cases per million residents   \n",
    "dpm: deaths per million residents\n",
    "CASES: cummulative cases\n",
    "DEATHS: cummulative deaths\n",
    "CPM: cummulative cases per million residents\n",
    "DPM: cummulative deaths per million residents\n",
    "FIPS: unique key for us counties\n",
    "population: number of residents in a state or county"
   ]
  },
  {
   "cell_type": "markdown",
   "metadata": {},
   "source": [
    "# Case per million inhabitants for select states"
   ]
  },
  {
   "cell_type": "code",
   "execution_count": 4,
   "metadata": {},
   "outputs": [
    {
     "name": "stdout",
     "output_type": "stream",
     "text": [
      "file:///var/folders/vn/0f8yw_kd7pjfrxqm3b5xkfp40000gn/T/tmpz4qcucxo.html\n"
     ]
    }
   ],
   "source": [
    "# Create a list with desired states\n",
    "states=['Florida', 'North Carolina', 'Texas', 'South Dakota', 'New York']\n",
    "cv.plot_group(us=us, st=st, states=states, param='cpm')"
   ]
  },
  {
   "cell_type": "markdown",
   "metadata": {},
   "source": [
    "# Cases per million inhabitants for select counties"
   ]
  },
  {
   "cell_type": "code",
   "execution_count": 5,
   "metadata": {},
   "outputs": [
    {
     "name": "stdout",
     "output_type": "stream",
     "text": [
      "file:///var/folders/vn/0f8yw_kd7pjfrxqm3b5xkfp40000gn/T/tmpk8d64nxc.html\n"
     ]
    }
   ],
   "source": [
    "# Create a data frame with desired counties\n",
    "# Note that a county name does not uniquely identify the county. \n",
    "# Therefore we need to specifiy county and the state\n",
    "cset = pd.DataFrame(\n",
    "    {'county': ['Broward', 'Miami-Dade', 'Palm Beach', 'Guilford'], \n",
    "     'state':  ['Florida', 'Florida' , 'Florida', 'North Carolina']})\n",
    "# Here we need to add the FIPS code to the data frame with cv.get_FIPS()\n",
    "cset = cv.get_FIPS(ct, cset)\n",
    "cv.plot_group(us=us, ct=ct, counties=cset, param='cpm')\n"
   ]
  },
  {
   "cell_type": "markdown",
   "metadata": {},
   "source": [
    "# Case per million inhabitants for all states\n"
   ]
  },
  {
   "cell_type": "code",
   "execution_count": 6,
   "metadata": {},
   "outputs": [
    {
     "name": "stdout",
     "output_type": "stream",
     "text": [
      "file:///var/folders/vn/0f8yw_kd7pjfrxqm3b5xkfp40000gn/T/tmpg7btbovt.html\n"
     ]
    }
   ],
   "source": [
    "states = st.state.unique()\n",
    "cv.plot_group(us=us, st=st, states=states, param='CASES')"
   ]
  },
  {
   "cell_type": "markdown",
   "metadata": {},
   "source": [
    "# Cases for select states"
   ]
  },
  {
   "cell_type": "code",
   "execution_count": 8,
   "metadata": {},
   "outputs": [
    {
     "name": "stdout",
     "output_type": "stream",
     "text": [
      "file:///var/folders/vn/0f8yw_kd7pjfrxqm3b5xkfp40000gn/T/tmpq2z5owzw.html\n"
     ]
    }
   ],
   "source": [
    "states=['Florida', 'North Carolina', 'Texas', 'South Dakota', 'New York']\n",
    "cv.plot_group(us=us, st=st, states=states, param='cases')"
   ]
  },
  {
   "cell_type": "markdown",
   "metadata": {},
   "source": [
    "# Deaths for select states"
   ]
  },
  {
   "cell_type": "code",
   "execution_count": 9,
   "metadata": {},
   "outputs": [
    {
     "name": "stdout",
     "output_type": "stream",
     "text": [
      "file:///var/folders/vn/0f8yw_kd7pjfrxqm3b5xkfp40000gn/T/tmpy1i8d4d9.html\n"
     ]
    }
   ],
   "source": [
    "states=['Florida', 'North Carolina', 'Texas', 'South Dakota', 'New York']\n",
    "cv.plot_group(us=us, st=st, states=states, param='CASES')"
   ]
  },
  {
   "cell_type": "markdown",
   "metadata": {},
   "source": [
    "# Cases per million inhabitants for select counties"
   ]
  },
  {
   "cell_type": "code",
   "execution_count": 11,
   "metadata": {},
   "outputs": [
    {
     "name": "stdout",
     "output_type": "stream",
     "text": [
      "file:///var/folders/vn/0f8yw_kd7pjfrxqm3b5xkfp40000gn/T/tmpsxc3i0q_.html\n"
     ]
    }
   ],
   "source": [
    "cset = pd.DataFrame(\n",
    "    {'county': ['Broward', 'Miami-Dade', 'Palm Beach', 'Guilford'], \n",
    "     'state':  ['Florida', 'Florida' , 'Florida', 'North Carolina']})        \n",
    "cset = cv.get_FIPS(ct, cset)\n",
    "cv.plot_group(us=us, ct=ct, counties=cset, param='cpm')\n"
   ]
  },
  {
   "cell_type": "code",
   "execution_count": 17,
   "metadata": {},
   "outputs": [
    {
     "name": "stdout",
     "output_type": "stream",
     "text": [
      "file:///var/folders/vn/0f8yw_kd7pjfrxqm3b5xkfp40000gn/T/tmpevsvwfaz.html\n"
     ]
    }
   ],
   "source": [
    "# Cumulative US deaths\n",
    "cv.plot_group(us=us, param='DEATHS')\n"
   ]
  },
  {
   "cell_type": "code",
   "execution_count": 19,
   "metadata": {},
   "outputs": [
    {
     "name": "stdout",
     "output_type": "stream",
     "text": [
      "file:///var/folders/vn/0f8yw_kd7pjfrxqm3b5xkfp40000gn/T/tmps37bxocj.html\n"
     ]
    }
   ],
   "source": [
    "# Cumulative US cases\n",
    "cv.plot_group(us=us, param='deaths')\n"
   ]
  },
  {
   "cell_type": "code",
   "execution_count": 15,
   "metadata": {},
   "outputs": [
    {
     "name": "stdout",
     "output_type": "stream",
     "text": [
      "file:///var/folders/vn/0f8yw_kd7pjfrxqm3b5xkfp40000gn/T/tmp4szkw412.html\n"
     ]
    }
   ],
   "source": [
    "cv.plot_group(us=us, param='CPM')\n"
   ]
  },
  {
   "cell_type": "code",
   "execution_count": 16,
   "metadata": {},
   "outputs": [
    {
     "name": "stdout",
     "output_type": "stream",
     "text": [
      "file:///var/folders/vn/0f8yw_kd7pjfrxqm3b5xkfp40000gn/T/tmpv9lhpbyo.html\n"
     ]
    }
   ],
   "source": [
    "cv.plot_group(us=us, param='DPM')\n"
   ]
  },
  {
   "cell_type": "code",
   "execution_count": null,
   "metadata": {},
   "outputs": [],
   "source": []
  }
 ],
 "metadata": {
  "kernelspec": {
   "display_name": "Python 3",
   "language": "python",
   "name": "python3"
  },
  "language_info": {
   "codemirror_mode": {
    "name": "ipython",
    "version": 3
   },
   "file_extension": ".py",
   "mimetype": "text/x-python",
   "name": "python",
   "nbconvert_exporter": "python",
   "pygments_lexer": "ipython3",
   "version": "3.8.3"
  }
 },
 "nbformat": 4,
 "nbformat_minor": 4
}
